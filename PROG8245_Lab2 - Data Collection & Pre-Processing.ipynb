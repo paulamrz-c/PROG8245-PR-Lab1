{
 "cells": [
  {
   "cell_type": "markdown",
   "id": "d8ba9ad9",
   "metadata": {},
   "source": [
    "# PROG8245_Lab2 - Data Collection & Pre-Processing\n",
    "\n",
    "This code snippet is part of a data processing pipeline for e-commerce transactions. It includes loading, cleaning, transforming, and calculating features from transaction data."
   ]
  },
  {
   "cell_type": "markdown",
   "id": "c2f1464d",
   "metadata": {},
   "source": [
    "## \tHello, Data!"
   ]
  },
  {
   "cell_type": "code",
   "execution_count": 1,
   "id": "80feb1a5",
   "metadata": {},
   "outputs": [
    {
     "data": {
      "application/vnd.microsoft.datawrangler.viewer.v0+json": {
       "columns": [
        {
         "name": "index",
         "rawType": "int64",
         "type": "integer"
        },
        {
         "name": "OrderNumber",
         "rawType": "object",
         "type": "string"
        },
        {
         "name": "Sales Channel",
         "rawType": "object",
         "type": "string"
        },
        {
         "name": "WarehouseCode",
         "rawType": "object",
         "type": "string"
        },
        {
         "name": "ProcuredDate",
         "rawType": "object",
         "type": "string"
        },
        {
         "name": "OrderDate",
         "rawType": "object",
         "type": "string"
        },
        {
         "name": "ShipDate",
         "rawType": "object",
         "type": "string"
        },
        {
         "name": "DeliveryDate",
         "rawType": "object",
         "type": "string"
        },
        {
         "name": "CurrencyCode",
         "rawType": "object",
         "type": "string"
        },
        {
         "name": "_SalesTeamID",
         "rawType": "int64",
         "type": "integer"
        },
        {
         "name": "_CustomerID",
         "rawType": "int64",
         "type": "integer"
        },
        {
         "name": "_StoreID",
         "rawType": "int64",
         "type": "integer"
        },
        {
         "name": "_ProductID",
         "rawType": "int64",
         "type": "integer"
        },
        {
         "name": "Order Quantity",
         "rawType": "int64",
         "type": "integer"
        },
        {
         "name": "Discount Applied",
         "rawType": "float64",
         "type": "float"
        },
        {
         "name": "Unit Cost",
         "rawType": "object",
         "type": "string"
        },
        {
         "name": "Unit Price",
         "rawType": "object",
         "type": "string"
        }
       ],
       "ref": "9b0a2717-c5ca-46fe-a7f2-ea46ab746ce5",
       "rows": [
        [
         "0",
         "SO - 000101",
         "In-Store",
         "WARE-UHY1004",
         "31/12/17",
         "31/5/18",
         "14/6/18",
         "19/6/18",
         "USD",
         "6",
         "15",
         "259",
         "12",
         "5",
         "0.075",
         "1,001.18",
         "1,963.10"
        ],
        [
         "1",
         "SO - 000102",
         "Online",
         "WARE-NMK1003",
         "31/12/17",
         "31/5/18",
         "22/6/18",
         "2/7/18",
         "USD",
         "14",
         "20",
         "196",
         "27",
         "3",
         "0.075",
         "3,348.66",
         "3,939.60"
        ],
        [
         "2",
         "SO - 000103",
         "Distributor",
         "WARE-UHY1004",
         "31/12/17",
         "31/5/18",
         "21/6/18",
         "1/7/18",
         "USD",
         "21",
         "16",
         "213",
         "16",
         "1",
         "0.05",
         "781.22",
         "1,775.50"
        ]
       ],
       "shape": {
        "columns": 16,
        "rows": 3
       }
      },
      "text/html": [
       "<div>\n",
       "<style scoped>\n",
       "    .dataframe tbody tr th:only-of-type {\n",
       "        vertical-align: middle;\n",
       "    }\n",
       "\n",
       "    .dataframe tbody tr th {\n",
       "        vertical-align: top;\n",
       "    }\n",
       "\n",
       "    .dataframe thead th {\n",
       "        text-align: right;\n",
       "    }\n",
       "</style>\n",
       "<table border=\"1\" class=\"dataframe\">\n",
       "  <thead>\n",
       "    <tr style=\"text-align: right;\">\n",
       "      <th></th>\n",
       "      <th>OrderNumber</th>\n",
       "      <th>Sales Channel</th>\n",
       "      <th>WarehouseCode</th>\n",
       "      <th>ProcuredDate</th>\n",
       "      <th>OrderDate</th>\n",
       "      <th>ShipDate</th>\n",
       "      <th>DeliveryDate</th>\n",
       "      <th>CurrencyCode</th>\n",
       "      <th>_SalesTeamID</th>\n",
       "      <th>_CustomerID</th>\n",
       "      <th>_StoreID</th>\n",
       "      <th>_ProductID</th>\n",
       "      <th>Order Quantity</th>\n",
       "      <th>Discount Applied</th>\n",
       "      <th>Unit Cost</th>\n",
       "      <th>Unit Price</th>\n",
       "    </tr>\n",
       "  </thead>\n",
       "  <tbody>\n",
       "    <tr>\n",
       "      <th>0</th>\n",
       "      <td>SO - 000101</td>\n",
       "      <td>In-Store</td>\n",
       "      <td>WARE-UHY1004</td>\n",
       "      <td>31/12/17</td>\n",
       "      <td>31/5/18</td>\n",
       "      <td>14/6/18</td>\n",
       "      <td>19/6/18</td>\n",
       "      <td>USD</td>\n",
       "      <td>6</td>\n",
       "      <td>15</td>\n",
       "      <td>259</td>\n",
       "      <td>12</td>\n",
       "      <td>5</td>\n",
       "      <td>0.075</td>\n",
       "      <td>1,001.18</td>\n",
       "      <td>1,963.10</td>\n",
       "    </tr>\n",
       "    <tr>\n",
       "      <th>1</th>\n",
       "      <td>SO - 000102</td>\n",
       "      <td>Online</td>\n",
       "      <td>WARE-NMK1003</td>\n",
       "      <td>31/12/17</td>\n",
       "      <td>31/5/18</td>\n",
       "      <td>22/6/18</td>\n",
       "      <td>2/7/18</td>\n",
       "      <td>USD</td>\n",
       "      <td>14</td>\n",
       "      <td>20</td>\n",
       "      <td>196</td>\n",
       "      <td>27</td>\n",
       "      <td>3</td>\n",
       "      <td>0.075</td>\n",
       "      <td>3,348.66</td>\n",
       "      <td>3,939.60</td>\n",
       "    </tr>\n",
       "    <tr>\n",
       "      <th>2</th>\n",
       "      <td>SO - 000103</td>\n",
       "      <td>Distributor</td>\n",
       "      <td>WARE-UHY1004</td>\n",
       "      <td>31/12/17</td>\n",
       "      <td>31/5/18</td>\n",
       "      <td>21/6/18</td>\n",
       "      <td>1/7/18</td>\n",
       "      <td>USD</td>\n",
       "      <td>21</td>\n",
       "      <td>16</td>\n",
       "      <td>213</td>\n",
       "      <td>16</td>\n",
       "      <td>1</td>\n",
       "      <td>0.050</td>\n",
       "      <td>781.22</td>\n",
       "      <td>1,775.50</td>\n",
       "    </tr>\n",
       "  </tbody>\n",
       "</table>\n",
       "</div>"
      ],
      "text/plain": [
       "   OrderNumber Sales Channel WarehouseCode ProcuredDate OrderDate ShipDate  \\\n",
       "0  SO - 000101      In-Store  WARE-UHY1004     31/12/17   31/5/18  14/6/18   \n",
       "1  SO - 000102        Online  WARE-NMK1003     31/12/17   31/5/18  22/6/18   \n",
       "2  SO - 000103   Distributor  WARE-UHY1004     31/12/17   31/5/18  21/6/18   \n",
       "\n",
       "  DeliveryDate CurrencyCode  _SalesTeamID  _CustomerID  _StoreID  _ProductID  \\\n",
       "0      19/6/18          USD             6           15       259          12   \n",
       "1       2/7/18          USD            14           20       196          27   \n",
       "2       1/7/18          USD            21           16       213          16   \n",
       "\n",
       "   Order Quantity  Discount Applied Unit Cost Unit Price  \n",
       "0               5             0.075  1,001.18   1,963.10  \n",
       "1               3             0.075  3,348.66   3,939.60  \n",
       "2               1             0.050    781.22   1,775.50  "
      ]
     },
     "execution_count": 1,
     "metadata": {},
     "output_type": "execute_result"
    }
   ],
   "source": [
    "import pandas as pd\n",
    "from dataclasses import dataclass\n",
    "from datetime import datetime\n",
    "\n",
    "# 1\tLoad raw CSV, display first 3 rows\n",
    "data_ecommerce = pd.read_csv(\"./data/US_Regional_Sales_Data.csv\")\n",
    "data_ecommerce.head(3)"
   ]
  },
  {
   "cell_type": "markdown",
   "id": "a8f01263",
   "metadata": {},
   "source": [
    "## Pick the Right Container"
   ]
  },
  {
   "cell_type": "markdown",
   "id": "d662f3e5",
   "metadata": {},
   "source": [
    "A dict would be more appropriate for representing each row. \n",
    "This is because I can easily access the values by their column names. A dict is more flexible and does not require a lot of code"
   ]
  },
  {
   "cell_type": "markdown",
   "id": "92cf9f3b",
   "metadata": {},
   "source": [
    "## Transaction Class and OO data structure\n",
    "Creating a dataclass a data class using dataclass decorator. This class includes methods for cleaning and transforming the data, as well as properties for calculating total and profit."
   ]
  },
  {
   "cell_type": "code",
   "execution_count": 2,
   "id": "136bfefa",
   "metadata": {},
   "outputs": [],
   "source": [
    "# Micro-class representing a row of transaction data\n",
    "@dataclass\n",
    "class Transaction:\n",
    "    OrderNumber: str\n",
    "    OrderDate: str\n",
    "    CustomerID: int\n",
    "    ProductID: int\n",
    "    StoreID: int\n",
    "    UnitPrice: float\n",
    "    UnitsSold: int\n",
    "    UnitCost: float\n",
    "    DiscountApplied: float\n",
    "    SalesChannel: str\n",
    "    \n",
    "# *******CLEANING DATA********\n",
    "    def clean(self):\n",
    "        # Convert a numeric fields to appropriate types and handle negative values\n",
    "        self.UnitPrice = float(str(self.UnitPrice).replace(\",\", \"\"))\n",
    "        self.UnitCost = float(str(self.UnitCost).replace(\",\", \"\"))\n",
    "        if self.UnitPrice < 0:\n",
    "            self.UnitPrice = 0.01  # Set minimum valid price to 0.01\n",
    "            \n",
    "        #Validate OrderDate format\n",
    "        if not self.OrderDate or self.OrderDate.strip() == \"\":\n",
    "            self.OrderDate = \"1/1/90\"  # Default date if missing     \n",
    "\n",
    "        # fix discount between 0 and 1\n",
    "        if self.DiscountApplied < 0:\n",
    "            self.DiscountApplied = 0\n",
    "        elif self.DiscountApplied > 1:\n",
    "            self.DiscountApplied = 1\n",
    "\n",
    "        # Set minimum valid price to 0.01\n",
    "        if self.UnitPrice <= 0:\n",
    "            self.UnitPrice = 0.01\n",
    "\n",
    "# *******TRANSFORMING DATA********\n",
    "    def transformed(self):\n",
    "         # Parse orderdate d/m/yy to YYYY-MM-DD \n",
    "        try:\n",
    "            dt = datetime.strptime(self.OrderDate.strip(), \"%d/%m/%y\")\n",
    "            self.OrderDate = dt.strftime(\"%Y-%m-%d\")\n",
    "        except (ValueError, AttributeError):\n",
    "            self.OrderDate = \"MISSING\"\n",
    "\n",
    "        #Convert SalesChannel to a numeric ID\n",
    "        channels = ['Distributor', 'Wholesale', 'In-Store', 'Online', 'Direct Sales']\n",
    "        try:\n",
    "            clean_channel = self.SalesChannel.strip().title()  # Ej: \"  online \" → \"Online\"\n",
    "            self.channel_id = channels.index(clean_channel) + 1\n",
    "        except (ValueError, AttributeError):\n",
    "            self.channel_id = 0\n",
    "\n",
    "# *******FEATURES*******\n",
    "    # Calculating total \n",
    "    @property\n",
    "    def total(self) -> float:\n",
    "        return self.UnitPrice * (1 - self.DiscountApplied) * self.UnitsSold\n",
    "\n",
    "    # Calculating profit\n",
    "    @property\n",
    "    def profit(self) -> float:\n",
    "        net_price = self.UnitPrice * (1 - self.DiscountApplied)\n",
    "        return (net_price - self.UnitCost) * self.UnitsSold\n",
    "    "
   ]
  },
  {
   "cell_type": "markdown",
   "id": "1b781caa",
   "metadata": {},
   "source": [
    "## Bulk Loader\n",
    "This function loads the CSV file, and returns a list of Transaction objects.\n"
   ]
  },
  {
   "cell_type": "code",
   "execution_count": 3,
   "id": "96830b72",
   "metadata": {},
   "outputs": [],
   "source": [
    "# 5. Bulk loader Function\n",
    "def load_transactions(path: str) -> list[Transaction]:\n",
    "    df = pd.read_csv(path)\n",
    "    transactions = [\n",
    "        Transaction(\n",
    "            OrderNumber=row[\"OrderNumber\"],\n",
    "            OrderDate=row[\"OrderDate\"],\n",
    "            CustomerID=row[\"_CustomerID\"],\n",
    "            ProductID=row[\"_ProductID\"],\n",
    "            StoreID=row[\"_StoreID\"],\n",
    "            UnitPrice=row[\"Unit Price\"],\n",
    "            UnitsSold=row[\"Order Quantity\"],\n",
    "            UnitCost=row[\"Unit Cost\"],\n",
    "            DiscountApplied=row[\"Discount Applied\"],\n",
    "            SalesChannel=row[\"Sales Channel\"]\n",
    "        )\n",
    "        for _, row in df.iterrows()\n",
    "    ]\n",
    "\n",
    "    return transactions"
   ]
  },
  {
   "cell_type": "code",
   "execution_count": 4,
   "id": "fdb865d4",
   "metadata": {},
   "outputs": [
    {
     "name": "stdout",
     "output_type": "stream",
     "text": [
      "Total rows: 7991\n"
     ]
    }
   ],
   "source": [
    "#load transactions from CSV file using the bulk loader function\n",
    "transactions = load_transactions(\"./data/US_Regional_Sales_Data.csv\")\n",
    "print(f\"Total rows: {len(transactions)}\")"
   ]
  },
  {
   "cell_type": "markdown",
   "id": "ecd10124",
   "metadata": {},
   "source": [
    "## Quick Profiling\n",
    "This bloclk of code helps us understand the price distribution in the dataset and give us a quick overview.\n"
   ]
  },
  {
   "cell_type": "code",
   "execution_count": 5,
   "id": "cdcf6028",
   "metadata": {},
   "outputs": [
    {
     "name": "stdout",
     "output_type": "stream",
     "text": [
      "Min price: 167.5\n",
      "Mean price: 2284.5365035665122\n",
      "Max price: 6566.0\n",
      "Unique shipping stores: 367\n"
     ]
    }
   ],
   "source": [
    "# Quick profiling of Prices\n",
    "# I noticed that the prices are stored as strings, so we need to convert them to floats for analysis.\n",
    "prices = [float(str(t.UnitPrice).replace(\",\", \"\")) for t in transactions]\n",
    "\n",
    "# Printing basic statistics like min, mean, and max prices\n",
    "print(\"Min price:\", min(prices))\n",
    "print(\"Mean price:\", sum(prices)/len(prices))\n",
    "print(\"Max price:\", max(prices))\n",
    "\n",
    "# Finding unique shipping stores\n",
    "shipping_store = set(t.StoreID for t in transactions) \n",
    "print(\"Unique shipping stores:\", len(shipping_store))"
   ]
  },
  {
   "cell_type": "markdown",
   "id": "daeff4b8",
   "metadata": {},
   "source": [
    "## Spot the Grime\n",
    "I changed some values to simulate dirty data for testing purposes, and I will carry out this activity."
   ]
  },
  {
   "cell_type": "code",
   "execution_count": 6,
   "id": "5a3dd53d",
   "metadata": {},
   "outputs": [
    {
     "name": "stdout",
     "output_type": "stream",
     "text": [
      "BEFORE CLEANING:\n",
      "Transactions with non-numeric prices: 7990\n",
      "Transactions with dirty prices: 1\n",
      "Transactions with missing and wrong dates: 1\n",
      "Transactions with invalid discount values: 2\n"
     ]
    }
   ],
   "source": [
    "# Spotting the Grime\n",
    "transactions[395].UnitPrice = -10  # negative price\n",
    "transactions[10].OrderDate = ''  # no date\n",
    "for idx in [1, 52]:\n",
    "    transactions[idx].DiscountApplied = 3  # discount greater than 1  \n",
    "\n",
    "print(\"BEFORE CLEANING:\")\n",
    "# Finding strings in numeric fields\n",
    "non_numeric_prices = [t for t in transactions if not isinstance(t.UnitPrice, (int, float))]\n",
    "print(f\"Transactions with non-numeric prices: {len(non_numeric_prices)}\")\n",
    "# Finding null or negative prices\n",
    "dirty_prices = [t for t in transactions if t.UnitPrice is None or float(str(t.UnitPrice).replace(\",\", \"\"))  < 0]\n",
    "print(f\"Transactions with dirty prices: {len(dirty_prices)}\")\n",
    "# Transactions with missing or wrong dates\n",
    "dirty_dates = [t for t in transactions if not t.OrderDate or t.OrderDate.strip() == \"\"]\n",
    "print(f\"Transactions with missing and wrong dates: {len(dirty_dates)}\")\n",
    "# Discount values outside [0, 1] range (if DiscountApplied is a proportion)\n",
    "bad_discounts = [t for t in transactions if not 0 <= t.DiscountApplied <= 1]\n",
    "print(f\"Transactions with invalid discount values: {len(bad_discounts)}\")\n",
    "\n"
   ]
  },
  {
   "cell_type": "markdown",
   "id": "3392a2c3",
   "metadata": {},
   "source": [
    "## \tCleaning Rules\n",
    "Applying the .clean() method created earlier."
   ]
  },
  {
   "cell_type": "code",
   "execution_count": 7,
   "id": "cc43f8b0",
   "metadata": {},
   "outputs": [
    {
     "name": "stdout",
     "output_type": "stream",
     "text": [
      "AFTER CLEANING:\n",
      "Transactions with non-numeric prices: 0\n",
      "Transactions with dirty prices: 0\n",
      "Transactions with missing and wrong dates: 0\n",
      "Transactions with invalid discount values: 0\n"
     ]
    }
   ],
   "source": [
    "#Showing after run the cleaning function\n",
    "transactions_cleaned = [t.clean() or t for t in transactions]\n",
    "\n",
    "print(\"AFTER CLEANING:\")\n",
    "# Finding strings in numeric fields\n",
    "non_numeric_prices = [t for t in transactions_cleaned if not isinstance(t.UnitPrice, (int, float))]\n",
    "print(f\"Transactions with non-numeric prices: {len(non_numeric_prices)}\")\n",
    "# Finding null or negative prices\n",
    "dirty_prices = [t for t in transactions_cleaned if t.UnitPrice is None or float(str(t.UnitPrice).replace(\",\", \"\"))  < 0]\n",
    "print(f\"Transactions with dirty prices: {len(dirty_prices)}\")\n",
    "# Transactions with missing or wrong dates\n",
    "dirty_dates = [t for t in transactions_cleaned if not t.OrderDate or t.OrderDate.strip() == \"\"]\n",
    "print(f\"Transactions with missing and wrong dates: {len(dirty_dates)}\")\n",
    "# Discount values outside [0, 1] range (if DiscountApplied is a proportion)\n",
    "bad_discounts = [t for t in transactions_cleaned if not 0 <= t.DiscountApplied <= 1]\n",
    "print(f\"Transactions with invalid discount values: {len(bad_discounts)}\")"
   ]
  },
  {
   "cell_type": "markdown",
   "id": "ec099632",
   "metadata": {},
   "source": [
    "## Transformations\n",
    "Aplying the transformation method created in the data class to change the date format and transform the channel sales in an id."
   ]
  },
  {
   "cell_type": "code",
   "execution_count": 8,
   "id": "93a7be5f",
   "metadata": {},
   "outputs": [
    {
     "name": "stdout",
     "output_type": "stream",
     "text": [
      "Sample new date format : 2018-05-31\n",
      "Transaction with channel id: 4\n"
     ]
    }
   ],
   "source": [
    "# Running the transformation function in the cleaned transactions\n",
    "transactions_transformed = [t.transformed() or t for t in transactions_cleaned]\n",
    "\n",
    "\n",
    "print(\"Sample new date format :\", transactions_transformed[1].OrderDate)\n",
    "print(\"Transaction with channel id:\", transactions_transformed[5].channel_id)\n"
   ]
  },
  {
   "cell_type": "markdown",
   "id": "de145f36",
   "metadata": {},
   "source": [
    "## Feature Engineering\n",
    "I decided to calculate the total value and the profit. Using discount, quantity, unit price and unit cost."
   ]
  },
  {
   "cell_type": "code",
   "execution_count": 9,
   "id": "fb90cbdf",
   "metadata": {},
   "outputs": [
    {
     "name": "stdout",
     "output_type": "stream",
     "text": [
      "Total sales for first transaction: 9079.3375\n",
      "Profit for first transaction: 4073.4375000000005\n"
     ]
    }
   ],
   "source": [
    "#using the properties to calculate total and profit\n",
    "print(\"Total sales for first transaction:\", transactions_transformed[0].total)\n",
    "print(\"Profit for first transaction:\", transactions_transformed[0].profit)"
   ]
  },
  {
   "cell_type": "markdown",
   "id": "6438a1cf",
   "metadata": {},
   "source": [
    "## Mini-Aggregation\n",
    "I want to demostrate the summary of revenue and profit by channel, creating two dictionaries."
   ]
  },
  {
   "cell_type": "code",
   "execution_count": 10,
   "id": "5ccffa24",
   "metadata": {},
   "outputs": [
    {
     "name": "stdout",
     "output_type": "stream",
     "text": [
      "Results by channel:\n",
      "Channel 1: $13169147.65 - Profit $3887897.39\n",
      "Channel 2: $8172768.54 - Profit $2472744.54\n",
      "Channel 3: $30092517.07 - Profit $8787465.61\n",
      "Channel 4: $21668977.02 - Profit $6137233.86\n"
     ]
    }
   ],
   "source": [
    "# dict to save revenue and profit by channel\n",
    "revenue_by_channel = {}\n",
    "profit_by_channel = {}\n",
    "\n",
    "# Calculating revenue and profit by channel\n",
    "for t in transactions_transformed:\n",
    "    revenue_by_channel[t.channel_id] = revenue_by_channel.get(t.channel_id, 0) + t.total\n",
    "    profit_by_channel[t.channel_id] = profit_by_channel.get(t.channel_id, 0) + t.profit\n",
    "\n",
    "# Displaying revenue and profit by channel\n",
    "print(\"Results by channel:\")\n",
    "for channel_id, revenue in sorted(revenue_by_channel.items()):\n",
    "    profit = profit_by_channel.get(channel_id, 0)\n",
    "    print(f\"Channel {channel_id}: ${revenue:.2f} - Profit ${profit:.2f}\")"
   ]
  },
  {
   "cell_type": "markdown",
   "id": "4b39af9b",
   "metadata": {},
   "source": [
    "## Serialization Checkpoint\n",
    "Saving the clean df in a json file and parquet file."
   ]
  },
  {
   "cell_type": "code",
   "execution_count": 11,
   "id": "75706f90",
   "metadata": {},
   "outputs": [],
   "source": [
    "# saving the cleaned and transformed data in a df using vars() to convert dataclass to dict\n",
    "df_clean = pd.DataFrame([vars(t) for t in transactions_transformed])\n",
    "# Saving the cleaned and transformed data to JSON and Parquet formats\n",
    "df_clean.to_json(\"data/transactions_cleaned.json\", orient=\"records\", indent=2)\n",
    "df_clean.to_parquet(\"data/transactions_cleaned.parquet\", index=False)\n"
   ]
  },
  {
   "cell_type": "markdown",
   "id": "d62c320c",
   "metadata": {},
   "source": [
    "## Soft Interview Reflection"
   ]
  },
  {
   "cell_type": "markdown",
   "id": "01443cae",
   "metadata": {},
   "source": [
    "At first, because I have a background in database modeling, I thought using a dictionary would be more flexible. I could access data using keys and complete each task without needing much structure.\n",
    "\n",
    "However, using OOP made the data cleaning and transformation process more organized and easier to manage. By putting logic like .clean(), .transform(), and calculated features such as .total and .profit inside the *Transaction* class, I avoided repeating code and made everything clearer and more reusable. The code also looks cleaner, and if I work on another dataset in the future, I can reuse this class with just small changes. Using OOP is harder in terms of coding at first, but it gave me more control and helped me think of each row as an object with behavior, not just raw data.\n",
    "\n"
   ]
  },
  {
   "cell_type": "markdown",
   "id": "2ba5278c",
   "metadata": {},
   "source": [
    "# Data-Dictionary Section\n",
    "In this section, I will merge my second source, which contains additional information about stores such as city, province, and estimated population."
   ]
  },
  {
   "cell_type": "markdown",
   "id": "9cb61e61",
   "metadata": {},
   "source": [
    "Merged data with store metadata:"
   ]
  },
  {
   "cell_type": "code",
   "execution_count": 12,
   "id": "cb69ae4a",
   "metadata": {},
   "outputs": [
    {
     "name": "stdout",
     "output_type": "stream",
     "text": [
      "Merged data with store metadata:\n"
     ]
    }
   ],
   "source": [
    "#Mergind the cleaned data with my dictionary of store   \n",
    "df_meta = pd.read_csv(\"data/store_metadata_canada.csv\")\n",
    "\n",
    "#unique store IDs in the cleaned data\n",
    "df_store_cities = df_clean.merge(df_meta, on=\"StoreID\", how=\"left\")\n",
    "\n",
    "#showing the first 5 rows of the merged data\n",
    "print(\"Merged data with store metadata:\")\n"
   ]
  },
  {
   "cell_type": "code",
   "execution_count": 13,
   "id": "c81bdbe9",
   "metadata": {},
   "outputs": [
    {
     "name": "stdout",
     "output_type": "stream",
     "text": [
      "| Column               | Type    | Source                     |\n",
      "|:---------------------|:--------|:---------------------------|\n",
      "| OrderNumber          | object  | US_Regional_Sales_Data.csv |\n",
      "| OrderDate            | object  | US_Regional_Sales_Data.csv |\n",
      "| CustomerID           | int64   | US_Regional_Sales_Data.csv |\n",
      "| ProductID            | int64   | US_Regional_Sales_Data.csv |\n",
      "| StoreID              | int64   | US_Regional_Sales_Data.csv |\n",
      "| UnitPrice            | float64 | US_Regional_Sales_Data.csv |\n",
      "| UnitsSold            | int64   | US_Regional_Sales_Data.csv |\n",
      "| UnitCost             | float64 | US_Regional_Sales_Data.csv |\n",
      "| DiscountApplied      | float64 | US_Regional_Sales_Data.csv |\n",
      "| SalesChannel         | object  | US_Regional_Sales_Data.csv |\n",
      "| channel_id           | int64   | US_Regional_Sales_Data.csv |\n",
      "| city                 | object  | store_metadata_canada.csv  |\n",
      "| province             | object  | store_metadata_canada.csv  |\n",
      "| estimated_population | int64   | store_metadata_canada.csv  |\n"
     ]
    }
   ],
   "source": [
    "\n",
    "# Define the sources for each column\n",
    "txn_cols = [\n",
    "    \"OrderNumber\", \"OrderDate\", \"CustomerID\", \"ProductID\", \"StoreID\",\n",
    "    \"UnitPrice\", \"UnitsSold\", \"UnitCost\", \"DiscountApplied\", \"SalesChannel\",\n",
    "    \"channel_id\", \"total\", \"profit\"\n",
    "]\n",
    "meta_cols = [col for col in df_store_cities.columns if col not in txn_cols]\n",
    "\n",
    "# Build the table\n",
    "summary_table = []\n",
    "for col in df_store_cities.columns:\n",
    "    dtype = str(df_store_cities[col].dtype)\n",
    "    if col in txn_cols:\n",
    "        source = \"US_Regional_Sales_Data.csv\"\n",
    "    elif col in meta_cols:\n",
    "        source = \"store_metadata_canada.csv\"\n",
    "    else:\n",
    "        source = \"Unknown\"\n",
    "    summary_table.append([col, dtype, source])\n",
    "\n",
    "df_summary = pd.DataFrame(summary_table, columns=[\"Column\", \"Type\", \"Source\"])\n",
    "print(df_summary.to_markdown(index=False))"
   ]
  },
  {
   "cell_type": "markdown",
   "id": "3fb28268",
   "metadata": {},
   "source": [
    "## References"
   ]
  },
  {
   "cell_type": "markdown",
   "id": "e22a040c",
   "metadata": {},
   "source": [
    "Sample Data:\n",
    "https://www.kaggle.com/datasets/talhabu/us-regional-sales-data?select=US_Regional_Sales_Data.csv\n",
    "Using Markdown:\n",
    "https://pandas.pydata.org/docs/reference/api/pandas.DataFrame.to_markdown.html"
   ]
  }
 ],
 "metadata": {
  "kernelspec": {
   "display_name": "venv",
   "language": "python",
   "name": "python3"
  },
  "language_info": {
   "codemirror_mode": {
    "name": "ipython",
    "version": 3
   },
   "file_extension": ".py",
   "mimetype": "text/x-python",
   "name": "python",
   "nbconvert_exporter": "python",
   "pygments_lexer": "ipython3",
   "version": "3.12.2"
  }
 },
 "nbformat": 4,
 "nbformat_minor": 5
}
